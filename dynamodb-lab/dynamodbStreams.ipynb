{
 "cells": [
  {
   "cell_type": "markdown",
   "metadata": {},
   "source": [
    "### Let's install some requirements and set some variables:"
   ]
  },
  {
   "cell_type": "code",
   "execution_count": null,
   "metadata": {
    "scrolled": true
   },
   "outputs": [],
   "source": [
    "#!pip install mysql-connector boto3"
   ]
  },
  {
   "cell_type": "code",
   "execution_count": null,
   "metadata": {},
   "outputs": [],
   "source": [
    "import mysql.connector\n",
    "\n",
    "pubEndpoint = \"35.172.134.237\"\n",
    "lambdaRole = \"arn:aws:iam::609170348072:role/cfst-1048-7c98d29a9eddbf3bbde89db39425-ALambdaRole-TWCPES760GI4\"\n",
    "endpoint = \"10.0.0.121\"\n",
    "username = \"cloud_user\"\n",
    "password = \"linuxacademy\"\n",
    "dbname = \"moviesdb\"\n",
    "tablename = \"Movies\""
   ]
  },
  {
   "cell_type": "markdown",
   "metadata": {},
   "source": [
    "### Now, we will establish a connection to the server and create our database:"
   ]
  },
  {
   "cell_type": "code",
   "execution_count": null,
   "metadata": {},
   "outputs": [],
   "source": [
    "\n",
    "mydb = mysql.connector.connect(\n",
    "  host= endpoint,\n",
    "  user= username,\n",
    "  passwd= password\n",
    ")\n",
    "\n",
    "mycursor = mydb.cursor()\n",
    "\n"
   ]
  },
  {
   "cell_type": "code",
   "execution_count": null,
   "metadata": {},
   "outputs": [],
   "source": [
    "mycursor = mydb.cursor()\n",
    "mycursor.execute(\"CREATE DATABASE \" + dbname)"
   ]
  },
  {
   "cell_type": "markdown",
   "metadata": {},
   "source": [
    "### Let's view the databases to ensure it was created:"
   ]
  },
  {
   "cell_type": "code",
   "execution_count": null,
   "metadata": {},
   "outputs": [],
   "source": [
    "mycursor.execute(\"SHOW DATABASES\")\n",
    "\n",
    "for x in mycursor:\n",
    "  print(x)"
   ]
  },
  {
   "cell_type": "markdown",
   "metadata": {},
   "source": [
    "### Now to connect to our database and create our table:"
   ]
  },
  {
   "cell_type": "code",
   "execution_count": null,
   "metadata": {},
   "outputs": [],
   "source": [
    "mydb = mysql.connector.connect(\n",
    "  host= endpoint,\n",
    "  user= username,\n",
    "  passwd= password,\n",
    "  database= dbname\n",
    ")\n",
    "\n",
    "mycursor = mydb.cursor()"
   ]
  },
  {
   "cell_type": "code",
   "execution_count": null,
   "metadata": {},
   "outputs": [],
   "source": [
    "mycursor.execute(\"CREATE TABLE \" + tablename + \" (Year INT, Title VARCHAR(255), Actor VARCHAR(255), Rating INT, Runtime INT, Uploaded VARCHAR(255))\")"
   ]
  },
  {
   "cell_type": "code",
   "execution_count": null,
   "metadata": {},
   "outputs": [],
   "source": [
    "mycursor.execute(\"ALTER TABLE \" + tablename + \" ADD COLUMN id INT AUTO_INCREMENT PRIMARY KEY\")"
   ]
  },
  {
   "cell_type": "markdown",
   "metadata": {},
   "source": [
    "### Let's add a sample record to ensure the database is setup properly:"
   ]
  },
  {
   "cell_type": "code",
   "execution_count": null,
   "metadata": {},
   "outputs": [],
   "source": [
    "sql = \"INSERT INTO \" + tablename + \" (Year, Title, Actor, Rating, Runtime, Uploaded) VALUES (%s, %s, %s, %s, %s, %s)\"\n",
    "val = (\"1989\", \"Die Hard\", \"Bruce Willis\", \"10\", \"7920\", \"Yes\")\n",
    "mycursor.execute(sql, val)\n",
    "\n",
    "mydb.commit()\n",
    "\n",
    "print(mycursor.rowcount, \"record inserted.\")"
   ]
  },
  {
   "cell_type": "code",
   "execution_count": null,
   "metadata": {},
   "outputs": [],
   "source": [
    "mydb.commit()\n",
    "mycursor = mydb.cursor()\n",
    "mycursor.execute(\"SELECT * FROM \" + tablename)\n",
    "\n",
    "myresult = mycursor.fetchall()\n",
    "\n",
    "for x in myresult:\n",
    "  print(x)"
   ]
  },
  {
   "cell_type": "markdown",
   "metadata": {},
   "source": [
    "#### Now, head back to the console and create the Lambda function, the table, and the stream. Then we'll finish up!"
   ]
  },
  {
   "cell_type": "code",
   "execution_count": null,
   "metadata": {},
   "outputs": [],
   "source": [
    "import boto3\n",
    "client = boto3.client('lambda',  region_name='us-east-1')\n",
    "\n",
    "\n",
    "response = client.create_function(\n",
    "    FunctionName='ddbStream',\n",
    "    Runtime='nodejs4.3',\n",
    "    Role= lambdaRole,\n",
    "    Handler='ddbStream.handler',\n",
    "    Code={\n",
    "        'ZipFile': open('ddbStream.zip', 'rb').read()\n",
    "    },\n",
    "    Description='Extracts from DynamoDB Stream and adds to Relational DB',\n",
    "    Timeout=5,\n",
    "    Environment={\n",
    "        'Variables': {\n",
    "            'endPoint': pubEndpoint\n",
    "        }\n",
    "    }\n",
    ")"
   ]
  },
  {
   "cell_type": "code",
   "execution_count": null,
   "metadata": {},
   "outputs": [],
   "source": [
    "# !aws lambda create-event-source-mapping \\\n",
    "#     --region us-east-1 \\\n",
    "#     --function-name ddbStream \\\n",
    "#     --event-source arn:aws:dynamodb:us-east-1:609170348072:table/Movies/stream/2018-09-26T21:12:38.827 \\\n",
    "#     --batch-size 1 \\\n",
    "#     --starting-position TRIM_HORIZON"
   ]
  },
  {
   "cell_type": "markdown",
   "metadata": {},
   "source": [
    "### Finally, let's add 100 records to our DynamoDB table and ensure the streaming works!"
   ]
  },
  {
   "cell_type": "code",
   "execution_count": null,
   "metadata": {
    "scrolled": true
   },
   "outputs": [],
   "source": [
    "from __future__ import print_function # Python 2/3 compatibility\n",
    "import boto3\n",
    "import json\n",
    "import decimal\n",
    "import sys\n",
    "import random\n",
    "dynamodb = boto3.resource('dynamodb',  region_name='us-east-1')\n",
    "table = dynamodb.Table('Movies')\n",
    "\n",
    "choices = ['yes', 'no']\n",
    "i = 0\n",
    "# with open(\"/home/cloud_user/moviedata.json\") as json_file:\n",
    "with open(\"moviedata.json\") as json_file:\n",
    "    with table.batch_writer() as batch:\n",
    "        movies = json.load(json_file, parse_float = decimal.Decimal)\n",
    "        for movie in movies:\n",
    "            i = i + 1\n",
    "            if i == 101:\n",
    "                break\n",
    "            year = int(movie['year'])\n",
    "            title = movie['title']\n",
    "            star = movie['actors'][0]\n",
    "            rating = movie['rating']\n",
    "            running_time = movie['running_time_secs']\n",
    "            uploaded = random.choice(choices)\n",
    "\n",
    "            print(\"Adding movie:\", year, title, star, rating, running_time, uploaded)\n",
    "\n",
    "            batch.put_item(\n",
    "               Item={\n",
    "                   'year': year,\n",
    "                   'title': title,\n",
    "                   'actor': star,\n",
    "                   'rating': rating,\n",
    "                   'running_time': running_time,\n",
    "                   'uploaded' : uploaded\n",
    "                }\n",
    "            )\n"
   ]
  },
  {
   "cell_type": "code",
   "execution_count": null,
   "metadata": {},
   "outputs": [],
   "source": [
    "import pandas as pd\n",
    "\n",
    "mydb.commit()\n",
    "mycursor = mydb.cursor()\n",
    "mycursor.execute(\"SELECT * FROM \" + tablename)\n",
    "\n",
    "myresult = mycursor.fetchall()\n",
    "\n",
    "item_list = []\n",
    "for i in myresult:\n",
    "    item = {'id':i[5], \n",
    "            'title':i[0], \n",
    "            'actor' :i[1], \n",
    "            'rating' :i[2], \n",
    "            'running_time' :i[3], \n",
    "            'uploaded' :i[4],\n",
    "            'year' :i[6]}\n",
    "    item_list.append(item)\n",
    "df = pd.DataFrame(data=item_list,columns=['id','year','title','actor','running_time','rating','uploaded'])\n",
    "df.head(30)"
   ]
  },
  {
   "cell_type": "markdown",
   "metadata": {},
   "source": [
    "### Troubleshooting\n",
    "The snippets below can help reset things to default or troubleshoot."
   ]
  },
  {
   "cell_type": "markdown",
   "metadata": {},
   "source": [
    "##### Delete all items in the relational database:"
   ]
  },
  {
   "cell_type": "code",
   "execution_count": null,
   "metadata": {},
   "outputs": [],
   "source": [
    "mycursor = mydb.cursor()\n",
    "mycursor.execute(\"TRUNCATE TABLE \" + tablename)"
   ]
  },
  {
   "cell_type": "markdown",
   "metadata": {},
   "source": [
    "### All Done! Awesome Job!"
   ]
  }
 ],
 "metadata": {
  "kernelspec": {
   "display_name": "Python 3",
   "language": "python",
   "name": "python3"
  },
  "language_info": {
   "codemirror_mode": {
    "name": "ipython",
    "version": 3
   },
   "file_extension": ".py",
   "mimetype": "text/x-python",
   "name": "python",
   "nbconvert_exporter": "python",
   "pygments_lexer": "ipython3",
   "version": "3.7.0"
  }
 },
 "nbformat": 4,
 "nbformat_minor": 2
}
